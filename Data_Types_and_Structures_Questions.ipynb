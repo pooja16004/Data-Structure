{
  "nbformat": 4,
  "nbformat_minor": 0,
  "metadata": {
    "colab": {
      "provenance": []
    },
    "kernelspec": {
      "name": "python3",
      "display_name": "Python 3"
    },
    "language_info": {
      "name": "python"
    }
  },
  "cells": [
    {
      "cell_type": "markdown",
      "source": [
        "# Data Types and Structures Questions"
      ],
      "metadata": {
        "id": "KNlXpkEyjQmN"
      }
    },
    {
      "cell_type": "markdown",
      "source": [
        "01- What are data structures, and why are they important.\n",
        "- Data Structures :- Data structures are specialized formats for organizing, storing, and accessing collections of data. They provide efficient ways to manage information based on its characteristics and intended use. Ex -Think of them as containers that hold your data and determine how you can interact with it. Different containers are better suited for different types of items.\n",
        "- Importance of data structures -\n",
        "  - Choosing the right data structure significantly impacts the efficiency and performance of your program.\n",
        "  - Well-chosen data structures can.\n",
        "  - Simplify data manipulation (adding, removing, modifying elements)\n",
        "  - Optimize searching and sorting operations\n",
        "  - Conserve memory usage"
      ],
      "metadata": {
        "id": "NNNopP8XjFA2"
      }
    },
    {
      "cell_type": "markdown",
      "source": [
        "02-Explain the difference between mutable and immutable data types with examples.\n",
        "  - in programming, there are two types of data types mutable and immutable\n",
        "    - Mutable Data Types - it can be modified after the object is created. In other words, you can change, add, or remove elements from a mutable object.\n",
        "      - Examples of mutable data type -\n",
        "        - 1 - List :- You can modify elements after it has been created.\n",
        "        - 2 - Dictionaries :- you can add, remove or modify key-values pairs.\n",
        "        - 3 - Sets :- you can add and remove items form sets.\n",
        "\n",
        "    - Immutable data types -These objects cannot be changed after creation any modification create a new objest in memory.\n",
        "      -  Examples of immutable data type :-\n",
        "        - 1 - string :- Once a string is created, you cannot change its content directly.\n",
        "        - 2 -Tuples :- A tuple’s elements cannot be modified after the tuple is created.\n",
        "        - 3 -Integers :- You cannot modify an integer's value directly."
      ],
      "metadata": {
        "id": "0vRZbhb8mSX0"
      }
    },
    {
      "cell_type": "markdown",
      "source": [
        "03 - What are the main differences between lists and tuples in Python?\n",
        "  - There are some differences between list and tuples\n",
        "    - Mutability :- list is mutable  tuples is Immutable\n",
        "    - Syntax :- list syntex - []/ tuples syntex ()\n",
        "    - Performance :- Slower than tuples due to mutability / Faster than lists\n",
        "    - Use Cases :- Suitable for collections that change / Suitable for fixed collections"
      ],
      "metadata": {
        "id": "8tGo3IeA2dEc"
      }
    },
    {
      "cell_type": "markdown",
      "source": [
        " 04 - Describe how dictionaries store data?\n",
        "  - Dictionaries is a cottection of key-value pairs. The key is hashed using a hash function, which determines where the value is stored, Keys are unique and immutable, while values can be of any type.Python uses a hash table to manage the keys and values, allowing fast lookups, insertions, and deletions."
      ],
      "metadata": {
        "id": "6TXTb3_x2eZc"
      }
    },
    {
      "cell_type": "markdown",
      "source": [
        "05 - Why might you use a set instead of a list in Python?\n",
        "  - A set is a built-in data type in Python that has certain features which make it more useful than a list in specific scenarios.\n",
        "  - Sets in a collection of non-repetitive elements.\n",
        "   - Use a set:\n",
        "      - You need unique elements (no duplicates).\n",
        "      - You don't care about order.\n",
        "      - You need to check membership efficiently.\n",
        "      - You want to perform set operations (union, intersection, etc.).\n",
        "\n",
        "    - Use a list:\n",
        "      - You need an ordered collection.\n",
        "      - You need to allow duplicate elements.\n",
        "      - You want to access elements by index."
      ],
      "metadata": {
        "id": "S8PMICLOCuAl"
      }
    },
    {
      "cell_type": "markdown",
      "source": [
        "06 - What is a string in Python, and how is it different from a list?\n",
        "  - Characters arranged in an unchangeable order. Consider writing a sentence, a paragraph, or a piece of material.\n",
        "    - Strings are immutable, text-based, and can only store characters.\n",
        "    - Lists are mutable, ordered collections, and can store multiple types of data (numbers, strings, lists, etc.).\n"
      ],
      "metadata": {
        "id": "avNJLDUOCwdx"
      }
    },
    {
      "cell_type": "markdown",
      "source": [
        "07 - How do tuples ensure data integrity in Python?\n",
        "  - Immutability is the key feature of tuples that ensures data integrity. Once a tuple is created, its data cannot be modified, preventing accidental changes.\n",
        "  - Tuples are particularly useful when storing constant data that needs to remain unchanged throughout the program’s execution, such as geographic coordinates, user information, or records.\n",
        "  - Since tuples are also hashable, they can be used as keys in dictionaries, making them an excellent choice for preserving unique data identifiers in your program."
      ],
      "metadata": {
        "id": "bgJaYakwJajy"
      }
    },
    {
      "cell_type": "markdown",
      "source": [
        "08 - What is a hash table, and how does it relate to dictionaries in Python?\n",
        "  - hash table:- A hash table is a data structure that stores key-value pairs and provides fast access to values based on their keys. It uses a hash function to compute an index (also called a hash) into an array of buckets or slots, from which the desired value can be quickly retrieved.\n",
        "\n",
        "    - Key:- An identifier used to access a value in the table.\n",
        "    -  Value:- The data or object stored in the table, associated with a specific key.\n",
        "  - it relate to dictionaries in Python :- In Python, a dictionary is implemented using a hash table. This means that the keys in a dictionary are hashed, allowing for fast lookups, insertions, and deletions.\n",
        "    - Keys in a Python dictionary are hashed to produce an index, and the corresponding values are stored at that index.\n",
        "    - Python dictionaries provide an efficient way to store and manage key-value pairs, leveraging the hash table's fast access time."
      ],
      "metadata": {
        "id": "uuy6s27iLaUo"
      }
    },
    {
      "cell_type": "markdown",
      "source": [
        "09 - Can lists contain different data types in Python?\n",
        "  - Yes, lists in Python can contain different data types. Python lists are heterogeneous, meaning they can store a mix of different types of data, such as integers, strings, floats, booleans, and even other lists or objects.                                       \n",
        "  Exmaple :- my_list = [\"Mango\", 12, 2.5, True, [1,2,3], {\"key\" : \"Values\"}]\n",
        "        "
      ],
      "metadata": {
        "id": "3w5A9A7VrPyU"
      }
    },
    {
      "cell_type": "code",
      "source": [
        "my_list = [\"Mango\", 12, 2.5, True, [1,2,3], {\"key\" : \"Values\"}]\n",
        "print(my_list[0]) #string data type\n",
        "print(my_list[1]) #integer data type\n",
        "print(my_list[2]) #float data type\n",
        "print(my_list[3]) #boolean data type\n",
        "print(my_list[4]) #list data type\n",
        "print(my_list[5]) #dictionary\n"
      ],
      "metadata": {
        "colab": {
          "base_uri": "https://localhost:8080/"
        },
        "id": "VW1HEb9vwvwN",
        "outputId": "4c4c92db-53b8-4f82-8ff2-69e9f25d1b21"
      },
      "execution_count": 4,
      "outputs": [
        {
          "output_type": "stream",
          "name": "stdout",
          "text": [
            "Mango\n",
            "12\n",
            "2.5\n",
            "True\n",
            "[1, 2, 3]\n",
            "{'key': 'Values'}\n"
          ]
        }
      ]
    },
    {
      "cell_type": "markdown",
      "source": [
        "10 - Explain why strings are immutable in Python.\n",
        "  - Immutability Definition: Immutability means that once an object is created, its value cannot be changed. In Python, strings are immutable, meaning that once a string is created, you cannot modify its individual characters or change the string itself.\n",
        "  - Hashing: Strings are used as keys in dictionaries and sets, and for this to work correctly, strings must be immutable. This is because hash values depend on the object's content. If a string could be changed after being used as a key, its hash value would also change, which would break the internal organization of the hash table.\n",
        "  - Strings are immutable in Python for reasons related to memory optimization, safety, consistency, and their use in hashing (like being dictionary keys). This ensures that once a string is created, its content remains fixed, which benefits both the program's performance and reliability."
      ],
      "metadata": {
        "id": "W8JVcaUVrRIq"
      }
    },
    {
      "cell_type": "markdown",
      "source": [
        "11 - What advantages do dictionaries offer over lists for certain tasks?\n",
        " - dictionaries are ideal when you need fast access to data via unique keys, efficient storage of key-value pairs, and automatic handling of duplicates. They provide an optimized and organized way to manage data relationships, making them a better choice than lists for tasks involving fast lookups, unordered data, and key-based associations."
      ],
      "metadata": {
        "id": "cp4Ai6UVrQ_i"
      }
    },
    {
      "cell_type": "markdown",
      "source": [
        "12 -  Describe a scenario where using a tuple would be preferable over a list.\n",
        "  - A tuple is often used in scenarios where immutability is important, meaning that once the data is stored, it should not be modified. Since tuples are immutable (i.e., their contents cannot be changed after they are created), they are suitable for situations where the data needs to remain constant throughout the program. Below are a few scenarios where a tuple would be preferable over a list:\n",
        "      - tuples are preferable:\n",
        "\n",
        "        - You need to ensure data immutability (i.e., the data should not be modified).\n",
        "        - You want to optimize memory usage for fixed data collections.\n",
        "        - You need to use the collection as a key in a dictionary.\n",
        "        - You are working with fixed, constant data that does not need to change."
      ],
      "metadata": {
        "id": "KwCIjBestPV7"
      }
    },
    {
      "cell_type": "markdown",
      "source": [
        "13 - How do sets handle duplicate values in Python?\n",
        "  - In Python, a set is an unordered collection of unique elements. This means that sets automatically remove duplicate values when elements are added. If you try to add a duplicate value to a set, it will simply ignore the duplicate and keep only one instance of the element.\n",
        "This makes sets a useful tool for tasks where you want to maintain a collection of unique items, such as eliminating duplicates from a list."
      ],
      "metadata": {
        "id": "eCXhOsB_tPFE"
      }
    },
    {
      "cell_type": "markdown",
      "source": [
        "14 - How does the “in” keyword work differently for lists and dictionaries?\n",
        "  -  The in keyword in Python is used to check for membership, but its behavior differs between lists and dictionaries due to the way each data structure is organized.\n",
        "      - Lists: The in keyword checks for the presence of a specific value in the list.\n",
        "      - Dictionaries: The in keyword checks for the presence of a key in the dictionary."
      ],
      "metadata": {
        "id": "A1H5VHv6tO_O"
      }
    },
    {
      "cell_type": "markdown",
      "source": [
        "15 - Can you modify the elements of a tuple? Explain why or why not.\n",
        "  - No, you cannot modify the elements of a tuple once it is created. This is because tuples are immutable in Python.\n",
        "  Tuples are immutable, meaning you cannot modify their elements after creation. This immutability provides benefits in terms of memory efficiency, data integrity, and makes tuples hashable for use as dictionary keys. However, if a tuple contains mutable objects like lists, you can modify those objects, but the tuple's structure and the references to those objects cannot be changed.\n",
        "\n"
      ],
      "metadata": {
        "id": "QcU3pAzGtc5j"
      }
    },
    {
      "cell_type": "markdown",
      "source": [
        " 16 - What is a nested dictionary, and give an example of its use case?\n",
        "  - A nested dictionary is a dictionary that contains other dictionaries as its values. In other words, a dictionary can have another dictionary as the value for one of its keys. This allows you to represent hierarchical or multi-level data structures in Python."
      ],
      "metadata": {
        "id": "Aw6gjvdbtc2W"
      }
    },
    {
      "cell_type": "code",
      "source": [
        "# Example of a nested dictionary\n",
        "person = {\n",
        "    \"name\": \"Alice\",\n",
        "    \"age\": 30,\n",
        "    \"contact\": {\n",
        "        \"email\": \"alice@example.com\",\n",
        "        \"phone\": \"123-456-7890\"},\n",
        "    \"address\": {\n",
        "        \"city\": \"New York\",\n",
        "        \"state\": \"NY\",\n",
        "        \"zipcode\": \"10001\"}}\n",
        "\n",
        "# Accessing values in the nested dictionary\n",
        "print(person[\"name\"])  # Output: Alice\n",
        "print(person[\"contact\"][\"email\"])  # Output: alice@example.com\n",
        "print(person[\"address\"][\"city\"])  # Output: New York\n"
      ],
      "metadata": {
        "colab": {
          "base_uri": "https://localhost:8080/"
        },
        "id": "ZiGPB3Z1Z9rn",
        "outputId": "651d5802-9d40-4de2-a7a6-ed66e825a131"
      },
      "execution_count": 5,
      "outputs": [
        {
          "output_type": "stream",
          "name": "stdout",
          "text": [
            "Alice\n",
            "alice@example.com\n",
            "New York\n"
          ]
        }
      ]
    },
    {
      "cell_type": "markdown",
      "source": [
        "17 - Describe the time complexity of accessing elements in a dictionary.\n",
        "- In Python, dictionaries are implemented using hash tables, which allows for efficient data retrieval based on a unique key. The time complexity for accessing elements in a dictionary is generally considered to be O(1) (constant time).\n",
        "    - The average time complexity for accessing elements in a dictionary is O(1), making dictionaries one of the most efficient data structures for key-based lookups in Python.\n",
        "    - Worst-case time complexity can be O(n) in the case of hash collisions, but this is rare due to Python's effective hashing mechanism."
      ],
      "metadata": {
        "id": "zBlUVpLttcy8"
      }
    },
    {
      "cell_type": "markdown",
      "source": [
        "18 - In what situations are lists preferred over dictionaries?\n",
        "  - While dictionaries are highly efficient for key-value lookups, there are certain situations where lists are more appropriate than dictionaries. Lists are ordered, indexed collections of elements, and they provide advantages in scenarios where order, iteration, or simpler access patterns are needed.\n",
        "  - lists are preferred over dictionaries when:\n",
        "\n",
        "    - You need an ordered collection of items.\n",
        "    - You want to access elements by their index.\n",
        "    - You are dealing with a sequence of values that don’t require keys.\n",
        "    - You need to store duplicates or handle simple collections without the need for key-value pair associations.\n",
        "    - You need to perform operations that involve iterating over elements."
      ],
      "metadata": {
        "id": "nzrY3Ixstcvu"
      }
    },
    {
      "cell_type": "markdown",
      "source": [
        "19 - Why are dictionaries considered unordered, and how does that affect data retrieval?\n",
        "  - Dictionaries are implemented using hash tables. A hash table maps each key to a hash value, and these hash values determine where the key-value pair is stored in memory.\n",
        "The storage of key-value pairs in a hash table is optimized for fast access and retrieval by key, rather than for maintaining order.\n",
        "The position of each key-value pair in the hash table is based on the hash value of the key, which is why the order can seem unpredictable, especially in earlier Python versions (before 3.7).\n",
        "  - how does that affect data retrieval:-\n",
        "  The unordered nature of dictionaries doesn't affect data retrieval performance because dictionary lookups are still extremely efficient. The retrieval time for a value given a key is O(1) on average, meaning that no matter the order of the elements, the time it takes to fetch a value by its key remains constant."
      ],
      "metadata": {
        "id": "gdOupiWgtcsl"
      }
    },
    {
      "cell_type": "markdown",
      "source": [
        "20 -  Explain the difference between a list and a dictionary in terms of data retrieval.\n",
        "  - Both lists and dictionaries are data structures in Python, but they differ significantly when it comes to how data is retrieved. The primary differences lie in the way each data structure stores, organizes, and retrieves elements.\n",
        "    - Data Retrieval in a List:\n",
        "Lists are ordered collections of elements where each item is assigned an index based on its position in the list (starting from 0).\n",
        "To retrieve an element from a list, you access it by its index.\n",
        "    - Data Retrieval in a Dictionary:\n",
        "Dictionaries are unordered collections of key-value pairs, where each value is associated with a unique key.\n",
        "To retrieve an element from a dictionary, you access it by its key."
      ],
      "metadata": {
        "id": "cFJdG7L4t4if"
      }
    },
    {
      "cell_type": "markdown",
      "source": [
        "# Practical Questions"
      ],
      "metadata": {
        "id": "Ghwg1gzBoEON"
      }
    },
    {
      "cell_type": "code",
      "source": [
        "# 01 - Write a code to create a string with your name and print it.\n",
        "\n",
        "# Creating a string with my name\n",
        "name =\"Pooja Patidar\"\n",
        "\n",
        "# Printing the string\n",
        "print(name)"
      ],
      "metadata": {
        "colab": {
          "base_uri": "https://localhost:8080/"
        },
        "id": "pfcKCwfvoUzM",
        "outputId": "a27bd987-78aa-4a25-8e73-8ed2fe555a1f"
      },
      "execution_count": 7,
      "outputs": [
        {
          "output_type": "stream",
          "name": "stdout",
          "text": [
            "Pooja Patidar\n"
          ]
        }
      ]
    },
    {
      "cell_type": "code",
      "source": [
        "# 02 - Write a code to find the length of the string \"Hello World\".\n",
        "\n",
        "str1 = \"Hello World\"\n",
        "\n",
        "# Finding the length of the string\n",
        "length = len(str1)\n",
        "\n",
        "# Printing the length\n",
        "print(length)\n"
      ],
      "metadata": {
        "colab": {
          "base_uri": "https://localhost:8080/"
        },
        "id": "nqvThQsRoVbm",
        "outputId": "de94096c-7cb4-417b-f553-ea87cc3dc986"
      },
      "execution_count": 8,
      "outputs": [
        {
          "output_type": "stream",
          "name": "stdout",
          "text": [
            "11\n"
          ]
        }
      ]
    },
    {
      "cell_type": "code",
      "source": [
        "# 03 - Write a code to slice the first 3 characters from the string \"Python Programming\".\n",
        "\n",
        "#string to slice\n",
        "str1 = \"Python Programming\"\n",
        "\n",
        "# Slicing the first 3 characters\n",
        "text = str1[:3]\n",
        "\n",
        "# Printing the result\n",
        "print(text)"
      ],
      "metadata": {
        "colab": {
          "base_uri": "https://localhost:8080/"
        },
        "id": "_lI1K4BXUg3s",
        "outputId": "6608b746-46a5-413f-a640-c40e4fa31071"
      },
      "execution_count": 11,
      "outputs": [
        {
          "output_type": "stream",
          "name": "stdout",
          "text": [
            "Pyt\n"
          ]
        }
      ]
    },
    {
      "cell_type": "code",
      "source": [
        "# 04 - Write a code to convert the string \"hello\" to uppercase.\n",
        "\n",
        "# string to convert to uppercase\n",
        "text = \"hello\"\n",
        "\n",
        "# converting the string to uppercase\n",
        "text = text.upper()\n",
        "#Printing the result\n",
        "print(text)"
      ],
      "metadata": {
        "colab": {
          "base_uri": "https://localhost:8080/"
        },
        "id": "tED9qIkAU7c5",
        "outputId": "d261fb11-1a3d-4064-c377-9c1e5e3ff316"
      },
      "execution_count": 12,
      "outputs": [
        {
          "output_type": "stream",
          "name": "stdout",
          "text": [
            "HELLO\n"
          ]
        }
      ]
    },
    {
      "cell_type": "code",
      "source": [
        "# 05- Write a code to replace the word \"apple\" with \"orange\" in the string \"I like apple\".\n",
        "\n",
        "# Original string\n",
        "text = \"I like apple\"\n",
        "\n",
        "# Replacing \"apple\" with \"orange\"\n",
        "text = text.replace(\"apple\",\"orange\")\n",
        "\n",
        "#Printing the result\n",
        "print(text)"
      ],
      "metadata": {
        "colab": {
          "base_uri": "https://localhost:8080/"
        },
        "id": "yMIL12oiV4Xl",
        "outputId": "6f204d2a-bda9-4df6-962d-beab387aaa1c"
      },
      "execution_count": 13,
      "outputs": [
        {
          "output_type": "stream",
          "name": "stdout",
          "text": [
            "I like orange\n"
          ]
        }
      ]
    },
    {
      "cell_type": "code",
      "source": [
        "# 06 - Write a code to create a list with numbers 1 to 5 and print it.\n",
        "\n",
        "# Creating a list with numbers from 1 to 5\n",
        "num = [1,2,3,4,5]\n",
        "\n",
        "# Printing the list\n",
        "print(num)"
      ],
      "metadata": {
        "colab": {
          "base_uri": "https://localhost:8080/"
        },
        "id": "1pL7IMKwYCuD",
        "outputId": "95edf835-f019-4915-df28-5e1518e03a6f"
      },
      "execution_count": 14,
      "outputs": [
        {
          "output_type": "stream",
          "name": "stdout",
          "text": [
            "[1, 2, 3, 4, 5]\n"
          ]
        }
      ]
    },
    {
      "cell_type": "code",
      "source": [
        "# 07- Write a code to append the number 10 to the list [1, 2, 3, 4].\n",
        "\n",
        "# Original list\n",
        "num = [1, 2, 3, 4]\n",
        "\n",
        "#Appending the number 10 to the list\n",
        "num.append(10)\n",
        "\n",
        "#Printing the updated list\n",
        "print(num)"
      ],
      "metadata": {
        "colab": {
          "base_uri": "https://localhost:8080/"
        },
        "id": "N5aq85SaZrs7",
        "outputId": "fe14511b-5755-4b75-bcf5-41b8ec82be41"
      },
      "execution_count": 17,
      "outputs": [
        {
          "output_type": "stream",
          "name": "stdout",
          "text": [
            "[1, 2, 3, 4, 10]\n"
          ]
        }
      ]
    },
    {
      "cell_type": "code",
      "source": [
        "# 08 - Write a code to remove the number 3 from the list [1, 2, 3, 4, 5].\n",
        "\n",
        "# Original list\n",
        "num = [1, 2, 3, 4, 5]\n",
        "\n",
        "# Removing the number 3 from the list\n",
        "num.remove(3)\n",
        "\n",
        "#Printing the updated list\n",
        "print(num)\n"
      ],
      "metadata": {
        "colab": {
          "base_uri": "https://localhost:8080/"
        },
        "id": "eHc2uh1rj-jl",
        "outputId": "0c07e557-b1bd-4fab-d04e-42a435a837ac"
      },
      "execution_count": 18,
      "outputs": [
        {
          "output_type": "stream",
          "name": "stdout",
          "text": [
            "[1, 2, 4, 5]\n"
          ]
        }
      ]
    },
    {
      "cell_type": "code",
      "source": [
        "# 09 - Write a code to access the second element in the list ['a', 'b', 'c', 'd'].\n",
        "\n",
        "# list of element\n",
        "my_list = ['a', 'b', 'c', 'd']\n",
        "\n",
        "# Accessing the second element (index 1)\n",
        "second_element = my_list[1]\n",
        "\n",
        "# Printing the second element\n",
        "print(second_element)"
      ],
      "metadata": {
        "colab": {
          "base_uri": "https://localhost:8080/"
        },
        "id": "zhhOH7K-kMU2",
        "outputId": "afb25bee-0ab0-4142-a89c-384428f0bfee"
      },
      "execution_count": 20,
      "outputs": [
        {
          "output_type": "stream",
          "name": "stdout",
          "text": [
            "b\n"
          ]
        }
      ]
    },
    {
      "cell_type": "code",
      "source": [
        "# 10 - Write a code to reverse the list [10, 20, 30, 40, 50].\n",
        "\n",
        "# there are two main methods to reverse a list in Python.\n",
        "# 1st method\n",
        "# Original list\n",
        "my_list = [10, 20, 30, 40, 50]\n",
        "\n",
        "# reversing the list using slicing\n",
        "my_list.reverse()\n",
        "\n",
        "# Printing the reversed list\n",
        "print(my_list)"
      ],
      "metadata": {
        "colab": {
          "base_uri": "https://localhost:8080/"
        },
        "id": "8O5QHPLKlpI0",
        "outputId": "7a0406f3-141b-465f-f31a-2d6f29e258ad"
      },
      "execution_count": 22,
      "outputs": [
        {
          "output_type": "stream",
          "name": "stdout",
          "text": [
            "[50, 40, 30, 20, 10]\n"
          ]
        }
      ]
    },
    {
      "cell_type": "code",
      "source": [
        "#2nd method\n",
        "# Original list\n",
        "my_list = [10, 20, 30, 40, 50]\n",
        "\n",
        "# reversing the list using slicing\n",
        "reversed_list = my_list[::-1]\n",
        "\n",
        "# Printing the reversed list\n",
        "print(reversed_list)"
      ],
      "metadata": {
        "colab": {
          "base_uri": "https://localhost:8080/"
        },
        "id": "CYeRPK0Bmkzh",
        "outputId": "3d4e6068-12d8-4d37-9e72-7ca34fa5e03d"
      },
      "execution_count": 23,
      "outputs": [
        {
          "output_type": "stream",
          "name": "stdout",
          "text": [
            "[50, 40, 30, 20, 10]\n"
          ]
        }
      ]
    },
    {
      "cell_type": "code",
      "source": [
        "# 11 - Write a code to create a tuple with the elements 100, 200, 300 and print it.\n",
        "\n",
        "# Creating a tuple with elements\n",
        "tuples = (100, 200, 300)\n",
        "\n",
        "#printing the tuple\n",
        "print(tuples)"
      ],
      "metadata": {
        "colab": {
          "base_uri": "https://localhost:8080/"
        },
        "id": "orBG9neipFLr",
        "outputId": "a44828a6-ee02-4d57-9ff4-5d92fd2e5373"
      },
      "execution_count": 24,
      "outputs": [
        {
          "output_type": "stream",
          "name": "stdout",
          "text": [
            "(100, 200, 300)\n"
          ]
        }
      ]
    },
    {
      "cell_type": "code",
      "source": [
        "# 12- Write a code to access the second-to-last element of the tuple ('red', 'green', 'blue', 'yellow').\n",
        "\n",
        "#tuple\n",
        "my_tuple = ('red', 'green', 'blue', 'yellow')\n",
        "\n",
        "# Accessing the second-to-last element\n",
        "text = my_tuple[-2]\n",
        "\n",
        "# Printing the result\n",
        "print(text)"
      ],
      "metadata": {
        "colab": {
          "base_uri": "https://localhost:8080/"
        },
        "id": "tqpkILC0v1DT",
        "outputId": "89a07148-1541-4e0d-c515-c2686693e7ad"
      },
      "execution_count": 25,
      "outputs": [
        {
          "output_type": "stream",
          "name": "stdout",
          "text": [
            "blue\n"
          ]
        }
      ]
    },
    {
      "cell_type": "code",
      "source": [
        "# 13- Write a code to find the minimum number in the tuple (10, 20, 5, 15).\n",
        "\n",
        "#tuple\n",
        "my_tuple = (10, 20, 5, 15)\n",
        "\n",
        "# finding the minimum number in the tuple\n",
        "min(my_tuple)"
      ],
      "metadata": {
        "colab": {
          "base_uri": "https://localhost:8080/"
        },
        "id": "b26cWjDZ70-j",
        "outputId": "fb4f00ee-45cc-44ba-c30c-0008dcb6f2ad"
      },
      "execution_count": 27,
      "outputs": [
        {
          "output_type": "execute_result",
          "data": {
            "text/plain": [
              "5"
            ]
          },
          "metadata": {},
          "execution_count": 27
        }
      ]
    },
    {
      "cell_type": "code",
      "source": [
        "# 14- Write a code to find the index of the element \"cat\" in the tuple ('dog', 'cat', 'rabbit').\n",
        "\n",
        "#tuple\n",
        "my_tuple = ('dog', 'cat', 'rabbit')\n",
        "\n",
        "# finding index of the element \"cat\" in the tuple\n",
        "my_tuple.index(\"cat\")"
      ],
      "metadata": {
        "colab": {
          "base_uri": "https://localhost:8080/"
        },
        "id": "8f_W8y0d8TIe",
        "outputId": "89537bac-23fc-41e5-d402-de12b264f3fb"
      },
      "execution_count": 29,
      "outputs": [
        {
          "output_type": "execute_result",
          "data": {
            "text/plain": [
              "1"
            ]
          },
          "metadata": {},
          "execution_count": 29
        }
      ]
    },
    {
      "cell_type": "code",
      "source": [
        "# 15- Write a code to create a tuple containing three different fruits and check if \"kiwi\" is in it.\n",
        "\n",
        "# Creating a tuple with three different fruits\n",
        "fruits = (\"cherry\", \"mango\", \"banana\")\n",
        "\n",
        "# Checking if \"kiwi\" is in the tuple\n",
        "if \"kiwi\" in fruits:\n",
        "    print(\"kiwi is in the tuple\")\n",
        "else:\n",
        "    print(\"kiwi is not in the tuple\")"
      ],
      "metadata": {
        "colab": {
          "base_uri": "https://localhost:8080/"
        },
        "id": "TDfDDLS6-ELZ",
        "outputId": "bbc2a8ae-9320-4460-e3d4-7ee2d7ce5372"
      },
      "execution_count": 2,
      "outputs": [
        {
          "output_type": "stream",
          "name": "stdout",
          "text": [
            "kiwi is not in the tuple\n"
          ]
        }
      ]
    },
    {
      "cell_type": "code",
      "source": [
        "# 16- Write a code to create a set with the elements 'a', 'b', 'c' and print it.\n",
        "\n",
        "#creating a set with the elements\n",
        "set1 = {\"a\", \"b\", \"c\"}\n",
        "\n",
        "#Printing the set\n",
        "print(set1)"
      ],
      "metadata": {
        "colab": {
          "base_uri": "https://localhost:8080/"
        },
        "id": "UyOCc7J0BFp7",
        "outputId": "0cb145b3-d645-4938-f97a-b0489ec4837f"
      },
      "execution_count": 4,
      "outputs": [
        {
          "output_type": "stream",
          "name": "stdout",
          "text": [
            "{'a', 'b', 'c'}\n"
          ]
        }
      ]
    },
    {
      "cell_type": "code",
      "source": [
        "#17- Write a code to clear all elements from the set {1, 2, 3, 4, 5}.\n",
        "\n",
        "#Original set\n",
        "set1 = {1, 2, 3, 4, 5}\n",
        "\n",
        "#clearing all elements from the set\n",
        "set1.clear()\n",
        "\n",
        "#printing the resutl\n",
        "print(set1)"
      ],
      "metadata": {
        "colab": {
          "base_uri": "https://localhost:8080/"
        },
        "id": "vD6woxscCYRG",
        "outputId": "7f09991b-13ac-45f3-c52f-5a4a49d1dbe0"
      },
      "execution_count": 5,
      "outputs": [
        {
          "output_type": "stream",
          "name": "stdout",
          "text": [
            "set()\n"
          ]
        }
      ]
    },
    {
      "cell_type": "code",
      "source": [
        "#18- Write a code to remove the element 4 from the set {1, 2, 3, 4}.\n",
        "\n",
        "#Original set\n",
        "set1 = {1, 2, 3, 4}\n",
        "\n",
        "# Removing the element 4 from the set\n",
        "set1.discard(4) #using discard method will not raise an error if element is not found\n",
        "\n",
        "# Printing the updated set\n",
        "print(set1)"
      ],
      "metadata": {
        "colab": {
          "base_uri": "https://localhost:8080/"
        },
        "id": "4jQ1Nx2ADDVZ",
        "outputId": "9a6d36ca-d555-4d06-f5d2-1af05490c92b"
      },
      "execution_count": 10,
      "outputs": [
        {
          "output_type": "stream",
          "name": "stdout",
          "text": [
            "{1, 2, 3}\n"
          ]
        }
      ]
    },
    {
      "cell_type": "code",
      "source": [
        "#19- Write a code to find the union of two sets {1, 2, 3} and {3, 4, 5}.\n",
        "\n",
        "#sets\n",
        "set1 = {1, 2, 3}\n",
        "set2 = {3, 4, 5}\n",
        "\n",
        "#finding the union of two sets\n",
        "set1.union(set2) #you can use the \"|\" operator for union"
      ],
      "metadata": {
        "colab": {
          "base_uri": "https://localhost:8080/"
        },
        "id": "6tuQ40dmIHyJ",
        "outputId": "f1a20472-6946-43ff-b395-9a2fbcc70818"
      },
      "execution_count": 24,
      "outputs": [
        {
          "output_type": "execute_result",
          "data": {
            "text/plain": [
              "{1, 2, 3, 4, 5}"
            ]
          },
          "metadata": {},
          "execution_count": 24
        }
      ]
    },
    {
      "cell_type": "code",
      "source": [
        "#20- Write a code to find the intersection of two sets {1, 2, 3} and {2, 3, 4}.\n",
        "\n",
        "#sets\n",
        "set1 = {1, 2, 3}\n",
        "set2 = {2, 3, 4}\n",
        "\n",
        "#finding the intersection of two sets\n",
        "set1.intersection(set2) #you can use the \"&\" operator for intersection"
      ],
      "metadata": {
        "colab": {
          "base_uri": "https://localhost:8080/"
        },
        "id": "-SBDmfULKLt_",
        "outputId": "8f87dcce-69b8-4c12-d5db-a48f9a1a13c8"
      },
      "execution_count": 23,
      "outputs": [
        {
          "output_type": "execute_result",
          "data": {
            "text/plain": [
              "{2, 3}"
            ]
          },
          "metadata": {},
          "execution_count": 23
        }
      ]
    },
    {
      "cell_type": "code",
      "source": [
        "#21- Write a code to create a dictionary with the keys \"name\", \"age\", and \"city\", and print it.\n",
        "\n",
        "#creating a dictionary\n",
        "dict1 = {\"name\" : \"Pooja\",\n",
        "         \"age\" : 25,\n",
        "         \"city\" : \"New York\"\n",
        "\n",
        "}\n",
        "\n",
        "#printing the dictionary\n",
        "print(dict1)"
      ],
      "metadata": {
        "colab": {
          "base_uri": "https://localhost:8080/"
        },
        "id": "hGlVCzEPa8LU",
        "outputId": "b39d69da-80ef-4013-81d1-8b426c935332"
      },
      "execution_count": 27,
      "outputs": [
        {
          "output_type": "stream",
          "name": "stdout",
          "text": [
            "{'name': 'Pooja', 'age': 25, 'city': 'New York'}\n"
          ]
        }
      ]
    },
    {
      "cell_type": "code",
      "source": [
        "#22- Write a code to add a new key-value pair \"country\": \"USA\" to the dictionary {'name': 'John', 'age': 25}.\n",
        "\n",
        "#Original dictionary\n",
        "dict1 = {'name': 'John', 'age': 25}\n",
        "\n",
        "#add a new key-value pair \"country\": \"USA\" to the dictionary\n",
        "dict1[\"country\"] = \"USA\"\n",
        "\n",
        "#Printing the updated dictionary\n",
        "print(dict1)"
      ],
      "metadata": {
        "colab": {
          "base_uri": "https://localhost:8080/"
        },
        "id": "TT8Joautc_F7",
        "outputId": "7487234b-b3cb-456f-c9d9-3829bacec2a3"
      },
      "execution_count": 28,
      "outputs": [
        {
          "output_type": "stream",
          "name": "stdout",
          "text": [
            "{'name': 'John', 'age': 25, 'country': 'USA'}\n"
          ]
        }
      ]
    },
    {
      "cell_type": "code",
      "source": [
        "#23- Write a code to access the value associated with the key \"name\" in the dictionary {'name': 'Alice', 'age': 30}.\n",
        "\n",
        "#dictionary\n",
        "dict1 = {'name': 'Alice', 'age': 30}\n",
        "\n",
        "#accessing the value associated with the key \"name\" in the dictionary\n",
        "dict1[\"name\"]"
      ],
      "metadata": {
        "colab": {
          "base_uri": "https://localhost:8080/",
          "height": 35
        },
        "id": "8uWJG1v0dNXB",
        "outputId": "018f00d9-1a24-4c8f-86bd-6656ec26acd5"
      },
      "execution_count": 29,
      "outputs": [
        {
          "output_type": "execute_result",
          "data": {
            "text/plain": [
              "'Alice'"
            ],
            "application/vnd.google.colaboratory.intrinsic+json": {
              "type": "string"
            }
          },
          "metadata": {},
          "execution_count": 29
        }
      ]
    },
    {
      "cell_type": "code",
      "source": [
        "#24- Write a code to remove the key \"age\" from the dictionary {'name': 'Bob', 'age': 22, 'city': 'New York'}.\n",
        "\n",
        "#Original dictionary\n",
        "dict1 = {'name': 'Bob', 'age': 22, 'city': 'New York'}\n",
        "\n",
        "#removing the key \"age\" from the dictionary\n",
        "dict1.pop(\"age\")\n",
        "\n",
        "#printing the updated dictionary\n",
        "print(dict1)"
      ],
      "metadata": {
        "colab": {
          "base_uri": "https://localhost:8080/"
        },
        "id": "GgmCTyZwdNSF",
        "outputId": "873bbfef-fa30-4ca1-dc80-280583f86ad0"
      },
      "execution_count": 31,
      "outputs": [
        {
          "output_type": "stream",
          "name": "stdout",
          "text": [
            "{'name': 'Bob', 'city': 'New York'}\n"
          ]
        }
      ]
    },
    {
      "cell_type": "code",
      "source": [
        "#25- Write a code to check if the key \"city\" exists in the dictionary {'name': 'Alice', 'city': 'Paris'}.\n",
        "\n",
        "#Original dictionary\n",
        "dict1 = {'name': 'Alice', 'city': 'Paris'}\n",
        "\n",
        "#checking if the key \"city\" exists in the dictionary\n",
        "if \"city\" in dict1:\n",
        "    print(\"city key exists in the dictionary\")\n",
        "else:\n",
        "    print(\"city key does not exist in the dictionary\")"
      ],
      "metadata": {
        "colab": {
          "base_uri": "https://localhost:8080/"
        },
        "id": "QUd9viHgdNIh",
        "outputId": "4cf85fff-34c4-4a8f-ac2b-565af11c9d82"
      },
      "execution_count": 32,
      "outputs": [
        {
          "output_type": "stream",
          "name": "stdout",
          "text": [
            "city key exists in the dictionary\n"
          ]
        }
      ]
    },
    {
      "cell_type": "code",
      "source": [
        "#26- Write a code to create a list, a tuple, and a dictionary, and print them all.\n",
        "\n",
        "#creating a list\n",
        "my_list = [1,2,3,4,5]\n",
        "\n",
        "##creating a tuple\n",
        "my_tuple = (1,2,3,4,5)\n",
        "\n",
        "#creating a dictionary\n",
        "my_dict = {\"name\" : \"John\",\n",
        "         \"age\" : 25,\n",
        "         \"city\" : \"New York\"\n",
        "}\n",
        "\n",
        "#printing the result's\n",
        "print(\"List:\", my_list)\n",
        "print(\"Tuple:\", my_tuple)\n",
        "print(\"Dictionary:\", my_dict)"
      ],
      "metadata": {
        "colab": {
          "base_uri": "https://localhost:8080/"
        },
        "id": "XBbwxW5YdNCV",
        "outputId": "7fc48339-d1d4-40de-84d9-5efdd11d3547"
      },
      "execution_count": 33,
      "outputs": [
        {
          "output_type": "stream",
          "name": "stdout",
          "text": [
            "[1, 2, 3, 4, 5]\n",
            "(1, 2, 3, 4, 5)\n",
            "{'name': 'John', 'age': 25, 'city': 'New York'}\n"
          ]
        }
      ]
    },
    {
      "cell_type": "code",
      "source": [
        "#27- Write a code to create a list of 5 random numbers between 1 and 100, sort it in ascending order, and print the result.(replaced)\n",
        "\n",
        "import random\n",
        "\n",
        "list1 = []\n",
        "\n",
        "# Creating a list of 5 random numbers between 1 and 100\n",
        "for i in range(5):\n",
        "    list1.append(random.randint(1,100))\n",
        "\n",
        "# Sorting the list in ascending order\n",
        "list1.sort()\n",
        "# Printing the sorted list\n",
        "print(list1)"
      ],
      "metadata": {
        "colab": {
          "base_uri": "https://localhost:8080/"
        },
        "id": "UScRj5D1dM8D",
        "outputId": "d256b928-42d6-49d4-fa5a-04bafa7b0f9c"
      },
      "execution_count": 42,
      "outputs": [
        {
          "output_type": "stream",
          "name": "stdout",
          "text": [
            "[57, 59, 85, 87, 94]\n"
          ]
        }
      ]
    },
    {
      "cell_type": "code",
      "source": [
        "#28- Write a code to create a list with strings and print the element at the third index.\n",
        "\n",
        "#creating a list with string\n",
        "my_list = [\"mango\", \"orange\", \"kiwi\", \"banana\", \"apple\"]\n",
        "\n",
        "print(my_list[3])"
      ],
      "metadata": {
        "colab": {
          "base_uri": "https://localhost:8080/"
        },
        "id": "tKdwrDIZdlgt",
        "outputId": "e54816a4-a00d-4075-daf2-ad46ca229ef8"
      },
      "execution_count": 44,
      "outputs": [
        {
          "output_type": "stream",
          "name": "stdout",
          "text": [
            "banana\n"
          ]
        }
      ]
    },
    {
      "cell_type": "code",
      "source": [
        "#29- Write a code to combine two dictionaries into one and print the result.\n",
        "\n",
        "# Creating two dictionaries\n",
        "d1 = {\"name\": \"John\", \"age\": 25}\n",
        "d2 = {\"city\": \"New York\", \"job\": \"Engineer\"}\n",
        "\n",
        "# Combining the dictionaries\n",
        "combined_dict = {**d1, **d2}\n",
        "\n",
        "# Printing the combined dictionary\n",
        "print(combined_dict)"
      ],
      "metadata": {
        "colab": {
          "base_uri": "https://localhost:8080/"
        },
        "id": "TvhXiDbjdldb",
        "outputId": "5296cbf5-22b3-46b1-fa90-826909760672"
      },
      "execution_count": 55,
      "outputs": [
        {
          "output_type": "stream",
          "name": "stdout",
          "text": [
            "{'name': 'John', 'age': 25, 'city': 'New York', 'job': 'Engineer'}\n"
          ]
        }
      ]
    },
    {
      "cell_type": "code",
      "source": [
        "#30- Write a code to convert a list of strings into a set.\n",
        "\n",
        "# List of strings\n",
        "my_list = [\"apple\", \"banana\", \"cherry\", \"apple\", \"date\"]\n",
        "\n",
        "# Converting the list to a set\n",
        "my_set = set(my_list)\n",
        "\n",
        "# Printing the set\n",
        "print(my_set)"
      ],
      "metadata": {
        "colab": {
          "base_uri": "https://localhost:8080/"
        },
        "id": "URVhEXONdlad",
        "outputId": "b3538e0d-f82e-46cb-e631-e325b8283269"
      },
      "execution_count": 53,
      "outputs": [
        {
          "output_type": "stream",
          "name": "stdout",
          "text": [
            "{'cherry', 'apple', 'banana', 'date'}\n"
          ]
        }
      ]
    },
    {
      "cell_type": "code",
      "source": [],
      "metadata": {
        "id": "73h4LuQXdlEp"
      },
      "execution_count": null,
      "outputs": []
    }
  ]
}